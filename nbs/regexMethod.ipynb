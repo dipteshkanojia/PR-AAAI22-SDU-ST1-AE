{
 "cells": [
  {
   "cell_type": "code",
   "execution_count": 1,
   "metadata": {},
   "outputs": [],
   "source": [
    "import re\n",
    "import pandas as pd\n",
    "import numpy as np"
   ]
  },
  {
   "cell_type": "markdown",
   "metadata": {},
   "source": [
    "# Baseline: find anything that  is capitalized"
   ]
  },
  {
   "cell_type": "code",
   "execution_count": 6,
   "metadata": {},
   "outputs": [
    {
     "name": "stderr",
     "output_type": "stream",
     "text": [
      "C:\\Users\\sadan\\AppData\\Local\\Continuum\\anaconda3\\envs\\old_env\\lib\\site-packages\\ipykernel_launcher.py:1: SettingWithCopyWarning: \n",
      "A value is trying to be set on a copy of a slice from a DataFrame.\n",
      "Try using .loc[row_indexer,col_indexer] = value instead\n",
      "\n",
      "See the caveats in the documentation: https://pandas.pydata.org/pandas-docs/stable/user_guide/indexing.html#returning-a-view-versus-a-copy\n",
      "  \"\"\"Entry point for launching an IPython kernel.\n"
     ]
    }
   ],
   "source": [
    "test['acronyms_found'] = test['text'].str.findall('([A-Z]{2,})')"
   ]
  },
  {
   "cell_type": "code",
   "execution_count": 7,
   "metadata": {},
   "outputs": [
    {
     "data": {
      "text/html": [
       "<div>\n",
       "<style scoped>\n",
       "    .dataframe tbody tr th:only-of-type {\n",
       "        vertical-align: middle;\n",
       "    }\n",
       "\n",
       "    .dataframe tbody tr th {\n",
       "        vertical-align: top;\n",
       "    }\n",
       "\n",
       "    .dataframe thead th {\n",
       "        text-align: right;\n",
       "    }\n",
       "</style>\n",
       "<table border=\"1\" class=\"dataframe\">\n",
       "  <thead>\n",
       "    <tr style=\"text-align: right;\">\n",
       "      <th></th>\n",
       "      <th>text</th>\n",
       "      <th>acronyms</th>\n",
       "      <th>long-forms</th>\n",
       "      <th>ID</th>\n",
       "      <th>acronym_text</th>\n",
       "      <th>longform_text</th>\n",
       "      <th>acronyms_found</th>\n",
       "    </tr>\n",
       "  </thead>\n",
       "  <tbody>\n",
       "    <tr>\n",
       "      <th>0</th>\n",
       "      <td>12).;  Terms of reference A Correspondence Gro...</td>\n",
       "      <td>[[194, 199]]</td>\n",
       "      <td>[[164, 192]]</td>\n",
       "      <td>1</td>\n",
       "      <td>[\"IBC's\"]</td>\n",
       "      <td>['intermediate bulk containers']</td>\n",
       "      <td>[IBC, UN, IBC]</td>\n",
       "    </tr>\n",
       "    <tr>\n",
       "      <th>1</th>\n",
       "      <td>The comprehensive list of currently identifie...</td>\n",
       "      <td>[[233, 238]]</td>\n",
       "      <td>[]</td>\n",
       "      <td>2</td>\n",
       "      <td>['INT 1']</td>\n",
       "      <td>[]</td>\n",
       "      <td>[INT]</td>\n",
       "    </tr>\n",
       "    <tr>\n",
       "      <th>2</th>\n",
       "      <td>Subregional activities for development Legisl...</td>\n",
       "      <td>[[142, 147]]</td>\n",
       "      <td>[[85, 140]]</td>\n",
       "      <td>3</td>\n",
       "      <td>['ESCAP']</td>\n",
       "      <td>['Economic and Social Commission for Asia and ...</td>\n",
       "      <td>[ESCAP, IV, XIII]</td>\n",
       "    </tr>\n",
       "    <tr>\n",
       "      <th>3</th>\n",
       "      <td>OIOS recommended that Secretariat programmes t...</td>\n",
       "      <td>[[239, 247], [142, 146], [0, 4]]</td>\n",
       "      <td>[[167, 237]]</td>\n",
       "      <td>4</td>\n",
       "      <td>['UN-Women', 'OIOS', 'OIOS']</td>\n",
       "      <td>['United Nations Entity for Gender Equality an...</td>\n",
       "      <td>[OIOS, OIOS, UN]</td>\n",
       "    </tr>\n",
       "    <tr>\n",
       "      <th>4</th>\n",
       "      <td>98. The Ministry of Education and Culture has...</td>\n",
       "      <td>[[82, 86]]</td>\n",
       "      <td>[[71, 80]]</td>\n",
       "      <td>5</td>\n",
       "      <td>['NoRa']</td>\n",
       "      <td>['No Racism']</td>\n",
       "      <td>[]</td>\n",
       "    </tr>\n",
       "    <tr>\n",
       "      <th>5</th>\n",
       "      <td>DRC = Disability Rights Commission ECHR = Conv...</td>\n",
       "      <td>[[151, 154], [0, 3], [35, 39], [188, 191]]</td>\n",
       "      <td>[[157, 187], [6, 34], [114, 149], [194, 210]]</td>\n",
       "      <td>6</td>\n",
       "      <td>['EOC', 'DRC', 'ECHR', 'HRA']</td>\n",
       "      <td>['Equal Opportunities Commission', 'Disability...</td>\n",
       "      <td>[DRC, ECHR, EOC, HRA]</td>\n",
       "    </tr>\n",
       "    <tr>\n",
       "      <th>6</th>\n",
       "      <td>Other travel-related costs Total expenditure B...</td>\n",
       "      <td>[[324, 327], [366, 371], [69, 75], [168, 175],...</td>\n",
       "      <td>[[330, 364], [374, 429], [78, 166], [178, 230]...</td>\n",
       "      <td>7</td>\n",
       "      <td>['SBI', 'SBSTA', 'AWG-KP', 'AWG-LCA', 'ADP']</td>\n",
       "      <td>['Subsidiary Body for Implementation', 'Subsid...</td>\n",
       "      <td>[AWG, KP, AWG, LCA, ADP, SBI, SBSTA]</td>\n",
       "    </tr>\n",
       "    <tr>\n",
       "      <th>7</th>\n",
       "      <td>The Alliance: (a) Led the European (Economic C...</td>\n",
       "      <td>[[456, 464], [497, 501], [68, 71]]</td>\n",
       "      <td>[[388, 454], [36, 66]]</td>\n",
       "      <td>8</td>\n",
       "      <td>['UN-Women', 'NGOs', 'ECE']</td>\n",
       "      <td>['United Nations Entity for Gender Equality an...</td>\n",
       "      <td>[ECE, UN, NGO]</td>\n",
       "    </tr>\n",
       "    <tr>\n",
       "      <th>8</th>\n",
       "      <td>10 a.m. - 1 p.m. Closed meeting Conference Roo...</td>\n",
       "      <td>[[174, 177], [3, 7], [12, 16], [51, 54], [125,...</td>\n",
       "      <td>[]</td>\n",
       "      <td>9</td>\n",
       "      <td>['NLB', 'a.m.', 'p.m.', 'NLB', 'a.m.']</td>\n",
       "      <td>[]</td>\n",
       "      <td>[NLB, NLB]</td>\n",
       "    </tr>\n",
       "    <tr>\n",
       "      <th>9</th>\n",
       "      <td>The Secretary-General has received the followi...</td>\n",
       "      <td>[[248, 257], [348, 354], [279, 282]]</td>\n",
       "      <td>[[195, 245], [129, 167]]</td>\n",
       "      <td>10</td>\n",
       "      <td>['I.F.W.L.C', 'ECOSOC', 'NGO']</td>\n",
       "      <td>['International Federation of Women in Legal C...</td>\n",
       "      <td>[NGO, ECOSOC]</td>\n",
       "    </tr>\n",
       "  </tbody>\n",
       "</table>\n",
       "</div>"
      ],
      "text/plain": [
       "                                                text  \\\n",
       "0  12).;  Terms of reference A Correspondence Gro...   \n",
       "1   The comprehensive list of currently identifie...   \n",
       "2   Subregional activities for development Legisl...   \n",
       "3  OIOS recommended that Secretariat programmes t...   \n",
       "4   98. The Ministry of Education and Culture has...   \n",
       "5  DRC = Disability Rights Commission ECHR = Conv...   \n",
       "6  Other travel-related costs Total expenditure B...   \n",
       "7  The Alliance: (a) Led the European (Economic C...   \n",
       "8  10 a.m. - 1 p.m. Closed meeting Conference Roo...   \n",
       "9  The Secretary-General has received the followi...   \n",
       "\n",
       "                                            acronyms  \\\n",
       "0                                       [[194, 199]]   \n",
       "1                                       [[233, 238]]   \n",
       "2                                       [[142, 147]]   \n",
       "3                   [[239, 247], [142, 146], [0, 4]]   \n",
       "4                                         [[82, 86]]   \n",
       "5         [[151, 154], [0, 3], [35, 39], [188, 191]]   \n",
       "6  [[324, 327], [366, 371], [69, 75], [168, 175],...   \n",
       "7                 [[456, 464], [497, 501], [68, 71]]   \n",
       "8  [[174, 177], [3, 7], [12, 16], [51, 54], [125,...   \n",
       "9               [[248, 257], [348, 354], [279, 282]]   \n",
       "\n",
       "                                          long-forms  ID  \\\n",
       "0                                       [[164, 192]]   1   \n",
       "1                                                 []   2   \n",
       "2                                        [[85, 140]]   3   \n",
       "3                                       [[167, 237]]   4   \n",
       "4                                         [[71, 80]]   5   \n",
       "5      [[157, 187], [6, 34], [114, 149], [194, 210]]   6   \n",
       "6  [[330, 364], [374, 429], [78, 166], [178, 230]...   7   \n",
       "7                             [[388, 454], [36, 66]]   8   \n",
       "8                                                 []   9   \n",
       "9                           [[195, 245], [129, 167]]  10   \n",
       "\n",
       "                                   acronym_text  \\\n",
       "0                                     [\"IBC's\"]   \n",
       "1                                     ['INT 1']   \n",
       "2                                     ['ESCAP']   \n",
       "3                  ['UN-Women', 'OIOS', 'OIOS']   \n",
       "4                                      ['NoRa']   \n",
       "5                 ['EOC', 'DRC', 'ECHR', 'HRA']   \n",
       "6  ['SBI', 'SBSTA', 'AWG-KP', 'AWG-LCA', 'ADP']   \n",
       "7                   ['UN-Women', 'NGOs', 'ECE']   \n",
       "8        ['NLB', 'a.m.', 'p.m.', 'NLB', 'a.m.']   \n",
       "9                ['I.F.W.L.C', 'ECOSOC', 'NGO']   \n",
       "\n",
       "                                       longform_text  \\\n",
       "0                   ['intermediate bulk containers']   \n",
       "1                                                 []   \n",
       "2  ['Economic and Social Commission for Asia and ...   \n",
       "3  ['United Nations Entity for Gender Equality an...   \n",
       "4                                      ['No Racism']   \n",
       "5  ['Equal Opportunities Commission', 'Disability...   \n",
       "6  ['Subsidiary Body for Implementation', 'Subsid...   \n",
       "7  ['United Nations Entity for Gender Equality an...   \n",
       "8                                                 []   \n",
       "9  ['International Federation of Women in Legal C...   \n",
       "\n",
       "                         acronyms_found  \n",
       "0                        [IBC, UN, IBC]  \n",
       "1                                 [INT]  \n",
       "2                     [ESCAP, IV, XIII]  \n",
       "3                      [OIOS, OIOS, UN]  \n",
       "4                                    []  \n",
       "5                 [DRC, ECHR, EOC, HRA]  \n",
       "6  [AWG, KP, AWG, LCA, ADP, SBI, SBSTA]  \n",
       "7                        [ECE, UN, NGO]  \n",
       "8                            [NLB, NLB]  \n",
       "9                         [NGO, ECOSOC]  "
      ]
     },
     "execution_count": 7,
     "metadata": {},
     "output_type": "execute_result"
    }
   ],
   "source": [
    "test.head(10)"
   ]
  },
  {
   "cell_type": "markdown",
   "metadata": {},
   "source": [
    "# Extract different patterns as an experiment"
   ]
  },
  {
   "cell_type": "code",
   "execution_count": 141,
   "metadata": {},
   "outputs": [
    {
     "name": "stdout",
     "output_type": "stream",
     "text": [
      "[0                                          [IBC, UN, IBC]\n",
      "1                                                   [INT]\n",
      "2                                       [ESCAP, IV, XIII]\n",
      "3                                        [OIOS, OIOS, UN]\n",
      "4                                                      []\n",
      "                              ...                        \n",
      "3559                                  [ICE, ICE, SRO, CA]\n",
      "3560                         [UNCITRAL, OECD, OECD, GATT]\n",
      "3561    [UNU, UNU, IAS, UNU, UNU, INWEH, UNU, UNU, WIDER]\n",
      "3562                                     [MSC, EMEP, MSC]\n",
      "3563                                                 [UN]\n",
      "Name: text, Length: 3564, dtype: object]\n"
     ]
    }
   ],
   "source": [
    "regex_list =[ \n",
    "     r'([A-Z]{2,}\\-[a-zA-Z]+)',\n",
    "      r'([A-Z]{2,}\\s+\\d)',\n",
    "     r'\\\\b[A-Z](?:[\\\\.&]?[A-Z]){1,7}\\\\b',    \n",
    "     r'(\\b(?:[a-zA-Z]\\.){2,})',\n",
    "     r'(?:(?<=\\.|\\s)[A-Z]\\.)+',\n",
    "     r'([A-Z]{2,})'\n",
    "            ]\n",
    "reg_convert = regex_list[::-1]\n",
    "for r in regex_list:\n",
    "        ls = []\n",
    "        ac = data['text'].str.findall(r)\n",
    "        ls.append(ac)\n",
    "print(ls)\n",
    "    "
   ]
  },
  {
   "cell_type": "code",
   "execution_count": 132,
   "metadata": {},
   "outputs": [
    {
     "data": {
      "text/plain": [
       "0                          [IBC, UN, IBC]\n",
       "1                                   [INT]\n",
       "2                       [ESCAP, IV, XIII]\n",
       "3                        [OIOS, OIOS, UN]\n",
       "4                                      []\n",
       "5                   [DRC, ECHR, EOC, HRA]\n",
       "6    [AWG, KP, AWG, LCA, ADP, SBI, SBSTA]\n",
       "7                               [ECE, UN]\n",
       "8                              [NLB, NLB]\n",
       "9                [I.F.W.L.C, NGO, ECOSOC]\n",
       "Name: text, dtype: object"
      ]
     },
     "execution_count": 132,
     "metadata": {},
     "output_type": "execute_result"
    }
   ],
   "source": [
    "test['text'].str.findall('(\\\\b[A-Z](?:[\\\\.&]?[A-Z]){1,7}\\\\b)')"
   ]
  },
  {
   "cell_type": "code",
   "execution_count": 142,
   "metadata": {},
   "outputs": [
    {
     "data": {
      "text/plain": [
       "0               [(, , , IBC), (, , , UN), (, , , IBC)]\n",
       "1                                      [(, INT 1, , )]\n",
       "2            [(, , , ESCAP), (, , , IV), (, , , XIII)]\n",
       "3       [(, , , OIOS), (, , , OIOS), (UN-Women, , , )]\n",
       "4                                                   []\n",
       "5    [(, , , DRC), (, , , ECHR), (, , , EOC), (, , ...\n",
       "6    [(AWG-KP, , , ), (AWG-LCA, , , ), (, , , ADP),...\n",
       "7         [(, , , ECE), (UN-Women, , , ), (, , , NGO)]\n",
       "8    [(, , a.m., ), (, , p.m., ), (, , , NLB), (, ,...\n",
       "9      [(, , I.F.W.L., ), (, , , NGO), (, , , ECOSOC)]\n",
       "Name: text, dtype: object"
      ]
     },
     "execution_count": 142,
     "metadata": {},
     "output_type": "execute_result"
    }
   ],
   "source": [
    "test['text'].str.findall('|'.join(regex_list))"
   ]
  },
  {
   "cell_type": "code",
   "execution_count": 143,
   "metadata": {},
   "outputs": [],
   "source": [
    "data['acronyms_extract'] = data['text'].str.findall('|'.join(regex_list))"
   ]
  },
  {
   "cell_type": "code",
   "execution_count": 134,
   "metadata": {},
   "outputs": [],
   "source": [
    "data.to_excel('trial1.xlsx')"
   ]
  },
  {
   "cell_type": "code",
   "execution_count": 62,
   "metadata": {},
   "outputs": [
    {
     "data": {
      "text/plain": [
       "' The comprehensive list of currently identified object classes (including cartographic objects and composite objects), their appropriate attributes and the full range of allowable attribute values. It can be compared to the Chart 1 (INT 1) as the legend of the paper chart, a collection of allowed hydrographic object classes. '"
      ]
     },
     "execution_count": 62,
     "metadata": {},
     "output_type": "execute_result"
    }
   ],
   "source": [
    "test['text'][1]"
   ]
  },
  {
   "cell_type": "code",
   "execution_count": null,
   "metadata": {},
   "outputs": [],
   "source": []
  }
 ],
 "metadata": {
  "kernelspec": {
   "display_name": "Python 3",
   "language": "python",
   "name": "python3"
  },
  "language_info": {
   "codemirror_mode": {
    "name": "ipython",
    "version": 3
   },
   "file_extension": ".py",
   "mimetype": "text/x-python",
   "name": "python",
   "nbconvert_exporter": "python",
   "pygments_lexer": "ipython3",
   "version": "3.8.8"
  }
 },
 "nbformat": 4,
 "nbformat_minor": 4
}
