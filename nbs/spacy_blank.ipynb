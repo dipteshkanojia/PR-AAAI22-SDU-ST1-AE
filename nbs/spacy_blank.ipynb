{
 "cells": [
  {
   "cell_type": "code",
   "execution_count": 1,
   "metadata": {},
   "outputs": [],
   "source": [
    "import pandas as pd"
   ]
  },
  {
   "cell_type": "markdown",
   "metadata": {},
   "source": [
    "# Trying with English Legal Training Data"
   ]
  },
  {
   "cell_type": "code",
   "execution_count": 316,
   "metadata": {},
   "outputs": [
    {
     "data": {
      "text/html": [
       "<div>\n",
       "<style scoped>\n",
       "    .dataframe tbody tr th:only-of-type {\n",
       "        vertical-align: middle;\n",
       "    }\n",
       "\n",
       "    .dataframe tbody tr th {\n",
       "        vertical-align: top;\n",
       "    }\n",
       "\n",
       "    .dataframe thead th {\n",
       "        text-align: right;\n",
       "    }\n",
       "</style>\n",
       "<table border=\"1\" class=\"dataframe\">\n",
       "  <thead>\n",
       "    <tr style=\"text-align: right;\">\n",
       "      <th></th>\n",
       "      <th>Unnamed: 0</th>\n",
       "      <th>text</th>\n",
       "      <th>acronyms</th>\n",
       "      <th>long-forms</th>\n",
       "      <th>ID</th>\n",
       "      <th>acronym_text</th>\n",
       "      <th>longform_text</th>\n",
       "    </tr>\n",
       "  </thead>\n",
       "  <tbody>\n",
       "    <tr>\n",
       "      <th>0</th>\n",
       "      <td>0</td>\n",
       "      <td>12).;  Terms of reference A Correspondence Gro...</td>\n",
       "      <td>[[194, 199]]</td>\n",
       "      <td>[[164, 192]]</td>\n",
       "      <td>1</td>\n",
       "      <td>[\"IBC's\"]</td>\n",
       "      <td>['intermediate bulk containers']</td>\n",
       "    </tr>\n",
       "    <tr>\n",
       "      <th>1</th>\n",
       "      <td>1</td>\n",
       "      <td>The comprehensive list of currently identifie...</td>\n",
       "      <td>[[233, 238]]</td>\n",
       "      <td>[]</td>\n",
       "      <td>2</td>\n",
       "      <td>['INT 1']</td>\n",
       "      <td>[]</td>\n",
       "    </tr>\n",
       "    <tr>\n",
       "      <th>2</th>\n",
       "      <td>2</td>\n",
       "      <td>Subregional activities for development Legisl...</td>\n",
       "      <td>[[142, 147]]</td>\n",
       "      <td>[[85, 140]]</td>\n",
       "      <td>3</td>\n",
       "      <td>['ESCAP']</td>\n",
       "      <td>['Economic and Social Commission for Asia and ...</td>\n",
       "    </tr>\n",
       "    <tr>\n",
       "      <th>3</th>\n",
       "      <td>3</td>\n",
       "      <td>OIOS recommended that Secretariat programmes t...</td>\n",
       "      <td>[[239, 247], [142, 146], [0, 4]]</td>\n",
       "      <td>[[167, 237]]</td>\n",
       "      <td>4</td>\n",
       "      <td>['UN-Women', 'OIOS', 'OIOS']</td>\n",
       "      <td>['United Nations Entity for Gender Equality an...</td>\n",
       "    </tr>\n",
       "    <tr>\n",
       "      <th>4</th>\n",
       "      <td>4</td>\n",
       "      <td>98. The Ministry of Education and Culture has...</td>\n",
       "      <td>[[82, 86]]</td>\n",
       "      <td>[[71, 80]]</td>\n",
       "      <td>5</td>\n",
       "      <td>['NoRa']</td>\n",
       "      <td>['No Racism']</td>\n",
       "    </tr>\n",
       "    <tr>\n",
       "      <th>5</th>\n",
       "      <td>5</td>\n",
       "      <td>DRC = Disability Rights Commission ECHR = Conv...</td>\n",
       "      <td>[[151, 154], [0, 3], [35, 39], [188, 191]]</td>\n",
       "      <td>[[157, 187], [6, 34], [114, 149], [194, 210]]</td>\n",
       "      <td>6</td>\n",
       "      <td>['EOC', 'DRC', 'ECHR', 'HRA']</td>\n",
       "      <td>['Equal Opportunities Commission', 'Disability...</td>\n",
       "    </tr>\n",
       "    <tr>\n",
       "      <th>6</th>\n",
       "      <td>6</td>\n",
       "      <td>Other travel-related costs Total expenditure B...</td>\n",
       "      <td>[[324, 327], [366, 371], [69, 75], [168, 175],...</td>\n",
       "      <td>[[330, 364], [374, 429], [78, 166], [178, 230]...</td>\n",
       "      <td>7</td>\n",
       "      <td>['SBI', 'SBSTA', 'AWG-KP', 'AWG-LCA', 'ADP']</td>\n",
       "      <td>['Subsidiary Body for Implementation', 'Subsid...</td>\n",
       "    </tr>\n",
       "    <tr>\n",
       "      <th>7</th>\n",
       "      <td>7</td>\n",
       "      <td>The Alliance: (a) Led the European (Economic C...</td>\n",
       "      <td>[[456, 464], [497, 501], [68, 71]]</td>\n",
       "      <td>[[388, 454], [36, 66]]</td>\n",
       "      <td>8</td>\n",
       "      <td>['UN-Women', 'NGOs', 'ECE']</td>\n",
       "      <td>['United Nations Entity for Gender Equality an...</td>\n",
       "    </tr>\n",
       "    <tr>\n",
       "      <th>8</th>\n",
       "      <td>8</td>\n",
       "      <td>10 a.m. - 1 p.m. Closed meeting Conference Roo...</td>\n",
       "      <td>[[174, 177], [3, 7], [12, 16], [51, 54], [125,...</td>\n",
       "      <td>[]</td>\n",
       "      <td>9</td>\n",
       "      <td>['NLB', 'a.m.', 'p.m.', 'NLB', 'a.m.']</td>\n",
       "      <td>[]</td>\n",
       "    </tr>\n",
       "    <tr>\n",
       "      <th>9</th>\n",
       "      <td>9</td>\n",
       "      <td>The Secretary-General has received the followi...</td>\n",
       "      <td>[[248, 257], [348, 354], [279, 282]]</td>\n",
       "      <td>[[195, 245], [129, 167]]</td>\n",
       "      <td>10</td>\n",
       "      <td>['I.F.W.L.C', 'ECOSOC', 'NGO']</td>\n",
       "      <td>['International Federation of Women in Legal C...</td>\n",
       "    </tr>\n",
       "  </tbody>\n",
       "</table>\n",
       "</div>"
      ],
      "text/plain": [
       "   Unnamed: 0                                               text  \\\n",
       "0           0  12).;  Terms of reference A Correspondence Gro...   \n",
       "1           1   The comprehensive list of currently identifie...   \n",
       "2           2   Subregional activities for development Legisl...   \n",
       "3           3  OIOS recommended that Secretariat programmes t...   \n",
       "4           4   98. The Ministry of Education and Culture has...   \n",
       "5           5  DRC = Disability Rights Commission ECHR = Conv...   \n",
       "6           6  Other travel-related costs Total expenditure B...   \n",
       "7           7  The Alliance: (a) Led the European (Economic C...   \n",
       "8           8  10 a.m. - 1 p.m. Closed meeting Conference Roo...   \n",
       "9           9  The Secretary-General has received the followi...   \n",
       "\n",
       "                                            acronyms  \\\n",
       "0                                       [[194, 199]]   \n",
       "1                                       [[233, 238]]   \n",
       "2                                       [[142, 147]]   \n",
       "3                   [[239, 247], [142, 146], [0, 4]]   \n",
       "4                                         [[82, 86]]   \n",
       "5         [[151, 154], [0, 3], [35, 39], [188, 191]]   \n",
       "6  [[324, 327], [366, 371], [69, 75], [168, 175],...   \n",
       "7                 [[456, 464], [497, 501], [68, 71]]   \n",
       "8  [[174, 177], [3, 7], [12, 16], [51, 54], [125,...   \n",
       "9               [[248, 257], [348, 354], [279, 282]]   \n",
       "\n",
       "                                          long-forms  ID  \\\n",
       "0                                       [[164, 192]]   1   \n",
       "1                                                 []   2   \n",
       "2                                        [[85, 140]]   3   \n",
       "3                                       [[167, 237]]   4   \n",
       "4                                         [[71, 80]]   5   \n",
       "5      [[157, 187], [6, 34], [114, 149], [194, 210]]   6   \n",
       "6  [[330, 364], [374, 429], [78, 166], [178, 230]...   7   \n",
       "7                             [[388, 454], [36, 66]]   8   \n",
       "8                                                 []   9   \n",
       "9                           [[195, 245], [129, 167]]  10   \n",
       "\n",
       "                                   acronym_text  \\\n",
       "0                                     [\"IBC's\"]   \n",
       "1                                     ['INT 1']   \n",
       "2                                     ['ESCAP']   \n",
       "3                  ['UN-Women', 'OIOS', 'OIOS']   \n",
       "4                                      ['NoRa']   \n",
       "5                 ['EOC', 'DRC', 'ECHR', 'HRA']   \n",
       "6  ['SBI', 'SBSTA', 'AWG-KP', 'AWG-LCA', 'ADP']   \n",
       "7                   ['UN-Women', 'NGOs', 'ECE']   \n",
       "8        ['NLB', 'a.m.', 'p.m.', 'NLB', 'a.m.']   \n",
       "9                ['I.F.W.L.C', 'ECOSOC', 'NGO']   \n",
       "\n",
       "                                       longform_text  \n",
       "0                   ['intermediate bulk containers']  \n",
       "1                                                 []  \n",
       "2  ['Economic and Social Commission for Asia and ...  \n",
       "3  ['United Nations Entity for Gender Equality an...  \n",
       "4                                      ['No Racism']  \n",
       "5  ['Equal Opportunities Commission', 'Disability...  \n",
       "6  ['Subsidiary Body for Implementation', 'Subsid...  \n",
       "7  ['United Nations Entity for Gender Equality an...  \n",
       "8                                                 []  \n",
       "9  ['International Federation of Women in Legal C...  "
      ]
     },
     "execution_count": 316,
     "metadata": {},
     "output_type": "execute_result"
    }
   ],
   "source": [
    "data= pd.read_excel('acronyms_with_text.xlsx')\n",
    "data.head(10)"
   ]
  },
  {
   "cell_type": "code",
   "execution_count": 317,
   "metadata": {},
   "outputs": [
    {
     "data": {
      "text/plain": [
       "3564"
      ]
     },
     "execution_count": 317,
     "metadata": {},
     "output_type": "execute_result"
    }
   ],
   "source": [
    "len(data)"
   ]
  },
  {
   "cell_type": "markdown",
   "metadata": {},
   "source": [
    "# Clean data from empty columns"
   ]
  },
  {
   "cell_type": "code",
   "execution_count": 318,
   "metadata": {},
   "outputs": [
    {
     "data": {
      "text/plain": [
       "3554"
      ]
     },
     "execution_count": 318,
     "metadata": {},
     "output_type": "execute_result"
    }
   ],
   "source": [
    "delete_row = data[data[\"acronyms\"]=='[]'].index\n",
    "data = data.drop(delete_row)\n",
    "len(data)"
   ]
  },
  {
   "cell_type": "markdown",
   "metadata": {},
   "source": [
    "# Function for creating a dictionary of {entities: index acronyms, Acronym} \n",
    "### Final index -1"
   ]
  },
  {
   "cell_type": "code",
   "execution_count": 331,
   "metadata": {},
   "outputs": [],
   "source": [
    "def create_entity(row):\n",
    "    row = row.replace('[', '').replace(']', '').split(',')\n",
    "    row = [int(x) for x in row]\n",
    "    \n",
    "    new = []\n",
    "    for i in range(0, len(row), 2):\n",
    "        tup  = tuple(row[i : i+2])\n",
    "        tup += ('Acronym',)\n",
    "        ind,ind2,text = tup\n",
    "        ind2 = ind2-1\n",
    "        tup = (ind,ind2,text)\n",
    "        #new.append({'entities': tup})\n",
    "        new.append(tup)\n",
    "    dic = {'entities': new}\n",
    "    return dic\n",
    "    \n"
   ]
  },
  {
   "cell_type": "markdown",
   "metadata": {},
   "source": [
    "# Same function as above without subtracting 1 from end index"
   ]
  },
  {
   "cell_type": "code",
   "execution_count": 362,
   "metadata": {},
   "outputs": [],
   "source": [
    "def create_entity2(row):\n",
    "    row = row.replace('[', '').replace(']', '').split(',')\n",
    "    row = [int(x) for x in row]\n",
    "    \n",
    "    new = []\n",
    "    for i in range(0, len(row), 2):\n",
    "        tup  = tuple(row[i : i+2])\n",
    "        tup += ('Acronym',)\n",
    "        ind,ind2,text = tup\n",
    "        #ind2 = ind2-1\n",
    "        tup = (ind,ind2,text)\n",
    "        #new.append({'entities': tup})\n",
    "        new.append(tup)\n",
    "    dic = {'entities': new}\n",
    "    return dic\n",
    "    \n"
   ]
  },
  {
   "cell_type": "markdown",
   "metadata": {},
   "source": [
    "# Creating a new column with the dictionaries"
   ]
  },
  {
   "cell_type": "code",
   "execution_count": 363,
   "metadata": {},
   "outputs": [],
   "source": [
    "\n",
    "data['entities'] = data['acronyms'].apply(create_entity)"
   ]
  },
  {
   "cell_type": "code",
   "execution_count": 333,
   "metadata": {},
   "outputs": [
    {
     "data": {
      "text/plain": [
       "dict"
      ]
     },
     "execution_count": 333,
     "metadata": {},
     "output_type": "execute_result"
    }
   ],
   "source": [
    "type(data['entities'][3])"
   ]
  },
  {
   "cell_type": "code",
   "execution_count": 334,
   "metadata": {},
   "outputs": [
    {
     "data": {
      "text/plain": [
       "{'entities': [(239, 247, 'Acronym'), (142, 146, 'Acronym'), (0, 4, 'Acronym')]}"
      ]
     },
     "execution_count": 334,
     "metadata": {},
     "output_type": "execute_result"
    }
   ],
   "source": [
    "data['entities'][3]"
   ]
  },
  {
   "cell_type": "markdown",
   "metadata": {},
   "source": [
    "# Zipping the text with the dictionaries to create the Spacy data format"
   ]
  },
  {
   "cell_type": "code",
   "execution_count": 335,
   "metadata": {},
   "outputs": [],
   "source": [
    "spacydata = list(zip(data.text,data.entities))"
   ]
  },
  {
   "cell_type": "code",
   "execution_count": 336,
   "metadata": {},
   "outputs": [
    {
     "data": {
      "text/plain": [
       "dict"
      ]
     },
     "execution_count": 336,
     "metadata": {},
     "output_type": "execute_result"
    }
   ],
   "source": [
    "type(spacydata[3][1])"
   ]
  },
  {
   "cell_type": "code",
   "execution_count": 328,
   "metadata": {},
   "outputs": [],
   "source": [
    "data.to_excel('acronyms_withspacydata.xlsx')"
   ]
  },
  {
   "cell_type": "code",
   "execution_count": 364,
   "metadata": {},
   "outputs": [],
   "source": [
    "data.to_csv('acronyms_withspacydata2.csv')"
   ]
  },
  {
   "cell_type": "markdown",
   "metadata": {},
   "source": [
    "# Train a spacy blanck model for our NER (acronyms)"
   ]
  },
  {
   "cell_type": "code",
   "execution_count": null,
   "metadata": {},
   "outputs": [],
   "source": [
    "from __future__ import unicode_literals, print_function\n",
    "import plac\n",
    "import random\n",
    "from pathlib import Path\n",
    "import spacy\n",
    "from tqdm import tqdm"
   ]
  },
  {
   "cell_type": "code",
   "execution_count": null,
   "metadata": {},
   "outputs": [],
   "source": [
    "model = None\n",
    "output_dir=Path(\"/content/drive/MyDrive/Surrey_acronyms\")\n",
    "n_iter=100"
   ]
  },
  {
   "cell_type": "code",
   "execution_count": null,
   "metadata": {},
   "outputs": [],
   "source": [
    "#load the model\n",
    "\n",
    "if model is not None:\n",
    "    #activated = spacy.prefer_gpu()\n",
    "    nlp = spacy.load(model)  \n",
    "    print(\"Loaded model '%s'\" % model)\n",
    "else:\n",
    "    #activated = spacy.prefer_gpu()\n",
    "    nlp = spacy.blank('en')  \n",
    "    print(\"Created blank 'en' model\")\n",
    "\n",
    "#set up the pipeline\n",
    "\n",
    "if 'ner' not in nlp.pipe_names:\n",
    "    ner = nlp.create_pipe('ner')\n",
    "    nlp.add_pipe(ner, last=True)\n",
    "else:\n",
    "    ner = nlp.get_pipe('ner')"
   ]
  },
  {
   "cell_type": "code",
   "execution_count": null,
   "metadata": {},
   "outputs": [],
   "source": [
    "# connect the label acronyms with the indeces for Spacy\n",
    "\n",
    "for _, annotations in spacydata:\n",
    "    for ent in annotations.get('entities'):\n",
    "        ner.add_label(ent[2])\n"
   ]
  },
  {
   "cell_type": "markdown",
   "metadata": {},
   "source": [
    "# Train a blank model with 100 iterations"
   ]
  },
  {
   "cell_type": "code",
   "execution_count": null,
   "metadata": {},
   "outputs": [],
   "source": [
    "other_pipes = [pipe for pipe in nlp.pipe_names if pipe != 'ner']\n",
    "with nlp.disable_pipes(*other_pipes):  # only train NER\n",
    "    optimizer = nlp.begin_training()\n",
    "    for itn in range(n_iter):\n",
    "        random.shuffle(spacydata)\n",
    "        losses = {}\n",
    "        for text, annotations in tqdm(spacydata):\n",
    "            nlp.update(\n",
    "                [text],  \n",
    "                [annotations],  \n",
    "                drop=0.5,  \n",
    "                sgd=optimizer,\n",
    "                losses=losses)\n",
    "        print(losses)"
   ]
  },
  {
   "cell_type": "markdown",
   "metadata": {},
   "source": [
    "# Give it a try on a new data"
   ]
  },
  {
   "cell_type": "code",
   "execution_count": null,
   "metadata": {},
   "outputs": [],
   "source": [
    "for text, _ in spacydata:\n",
    "    doc = nlp(text)\n",
    "    print('Entities', [(ent.text, ent.label_) for ent in doc.ents])"
   ]
  }
 ],
 "metadata": {
  "kernelspec": {
   "display_name": "Python [conda env:nm]",
   "language": "python",
   "name": "conda-env-nm-py"
  },
  "language_info": {
   "codemirror_mode": {
    "name": "ipython",
    "version": 3
   },
   "file_extension": ".py",
   "mimetype": "text/x-python",
   "name": "python",
   "nbconvert_exporter": "python",
   "pygments_lexer": "ipython3",
   "version": "3.8.5"
  }
 },
 "nbformat": 4,
 "nbformat_minor": 2
}
